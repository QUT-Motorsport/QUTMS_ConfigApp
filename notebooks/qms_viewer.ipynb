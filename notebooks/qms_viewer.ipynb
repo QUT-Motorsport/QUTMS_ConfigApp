{
 "cells": [
  {
   "cell_type": "code",
   "execution_count": 1,
   "metadata": {},
   "outputs": [],
   "source": [
    "# give this notebook access to all python files in the repo\n",
    "import sys\n",
    "sys.path.append('..')"
   ]
  },
  {
   "cell_type": "code",
   "execution_count": 2,
   "metadata": {},
   "outputs": [],
   "source": [
    "from python.motec.ldparser import read_ldfile"
   ]
  },
  {
   "cell_type": "code",
   "execution_count": 7,
   "metadata": {},
   "outputs": [],
   "source": [
    "from pathlib import Path\n",
    "head, channels = read_ldfile(Path('../python/motec/logs/acu_bathurst_&_bmw_z4_gt3_&_qutmotorsport.team_&_stint_1.ld'))"
   ]
  },
  {
   "cell_type": "code",
   "execution_count": 8,
   "metadata": {},
   "outputs": [
    {
     "name": "stdout",
     "output_type": "stream",
     "text": [
      "name:    qutmotorsport.team\n",
      "vehicle: bmw_z4_gt3\n",
      "venue: acu_bathurst\n",
      "event:   AC_LIVE descr: None\n",
      "\n"
     ]
    }
   ],
   "source": [
    "print(head)"
   ]
  },
  {
   "cell_type": "code",
   "execution_count": 9,
   "metadata": {},
   "outputs": [
    {
     "data": {
      "application/vnd.jupyter.widget-view+json": {
       "model_id": "5703c3062ef24c9cbf23418e7a44c575",
       "version_major": 2,
       "version_minor": 0
      },
      "text/plain": [
       "interactive(children=(Dropdown(description='idx', index=34, options=((<python.motec.ldparser.ldchan object at …"
      ]
     },
     "metadata": {},
     "output_type": "display_data"
    }
   ],
   "source": [
    "import plotly.express as px\n",
    "import plotly.graph_objects as go\n",
    "import ipywidgets as ipy\n",
    "import numpy as np\n",
    "from IPython.display import display\n",
    "\n",
    "def make_interactor():\n",
    "    @ipy.interact(idx=[(ch, idx) for (idx, ch) in enumerate(channels)])\n",
    "    def show_channel(idx=34):\n",
    "        channel = channels[idx]\n",
    "        \n",
    "        print(len(channel.data))\n",
    "\n",
    "        fig = px.line(x=np.arange(\n",
    "            start=0,\n",
    "            stop=len(channel.data) / channel.freq,\n",
    "            step=1 / channel.freq\n",
    "        ), y=channel.data)\n",
    "\n",
    "        unit = channel.unit if channel.unit != '' else 'value'\n",
    "\n",
    "        fig.update_layout(\n",
    "            title=channel.name,\n",
    "            xaxis_title='Time (secs)',\n",
    "            yaxis_title=unit,\n",
    "            xaxis=go.layout.XAxis(\n",
    "                rangeslider=dict(\n",
    "                    visible=True\n",
    "                )\n",
    "            )\n",
    "        )\n",
    "        \n",
    "        fig.show()\n",
    "        \n",
    "make_interactor()"
   ]
  },
  {
   "cell_type": "code",
   "execution_count": null,
   "metadata": {},
   "outputs": [],
   "source": []
  }
 ],
 "metadata": {
  "kernelspec": {
   "display_name": "Python 3",
   "language": "python",
   "name": "python3"
  },
  "language_info": {
   "codemirror_mode": {
    "name": "ipython",
    "version": 3
   },
   "file_extension": ".py",
   "mimetype": "text/x-python",
   "name": "python",
   "nbconvert_exporter": "python",
   "pygments_lexer": "ipython3",
   "version": "3.7.6"
  }
 },
 "nbformat": 4,
 "nbformat_minor": 4
}
